{
 "cells": [
  {
   "cell_type": "markdown",
   "metadata": {},
   "source": [
    "## binary feature indicating emoji in title\n",
    "https://pypi.org/project/emoji/"
   ]
  },
  {
   "cell_type": "code",
   "execution_count": 20,
   "metadata": {},
   "outputs": [
    {
     "name": "stderr",
     "output_type": "stream",
     "text": [
      "/var/folders/nt/m5j3lfrj7zv1wxn3grk5rz3c0000gn/T/ipykernel_9179/2951871752.py:3: DtypeWarning: Columns (3) have mixed types. Specify dtype option on import or set low_memory=False.\n",
      "  meme_df = pd.read_csv('./Data/Memes/memesfinal.csv')\n"
     ]
    },
    {
     "data": {
      "text/html": [
       "<div>\n",
       "<style scoped>\n",
       "    .dataframe tbody tr th:only-of-type {\n",
       "        vertical-align: middle;\n",
       "    }\n",
       "\n",
       "    .dataframe tbody tr th {\n",
       "        vertical-align: top;\n",
       "    }\n",
       "\n",
       "    .dataframe thead th {\n",
       "        text-align: right;\n",
       "    }\n",
       "</style>\n",
       "<table border=\"1\" class=\"dataframe\">\n",
       "  <thead>\n",
       "    <tr style=\"text-align: right;\">\n",
       "      <th></th>\n",
       "      <th>Unnamed: 0</th>\n",
       "      <th>id</th>\n",
       "      <th>title</th>\n",
       "      <th>text</th>\n",
       "      <th>score</th>\n",
       "      <th>num_comments</th>\n",
       "      <th>over18</th>\n",
       "      <th>url</th>\n",
       "      <th>date</th>\n",
       "      <th>IDURL</th>\n",
       "    </tr>\n",
       "  </thead>\n",
       "  <tbody>\n",
       "    <tr>\n",
       "      <th>0</th>\n",
       "      <td>612615</td>\n",
       "      <td>2021.02.15_288</td>\n",
       "      <td>Wait I didn't mean it like that</td>\n",
       "      <td>NaN</td>\n",
       "      <td>211152</td>\n",
       "      <td>1642</td>\n",
       "      <td>False</td>\n",
       "      <td>https://i.redd.it/n4ildkpurph61.png</td>\n",
       "      <td>2021-02-15</td>\n",
       "      <td>Wait I didn't mean it like thathttps://i.redd....</td>\n",
       "    </tr>\n",
       "    <tr>\n",
       "      <th>1</th>\n",
       "      <td>545780</td>\n",
       "      <td>2020.10.20_959</td>\n",
       "      <td>Don't be mad</td>\n",
       "      <td>NaN</td>\n",
       "      <td>207206</td>\n",
       "      <td>811</td>\n",
       "      <td>False</td>\n",
       "      <td>https://i.redd.it/gsqgq6uwuau51.jpg</td>\n",
       "      <td>2020-10-20</td>\n",
       "      <td>Don't be madhttps://i.redd.it/gsqgq6uwuau51.jpg</td>\n",
       "    </tr>\n",
       "    <tr>\n",
       "      <th>2</th>\n",
       "      <td>385925</td>\n",
       "      <td>2020.01.18_675</td>\n",
       "      <td>For real tho</td>\n",
       "      <td>NaN</td>\n",
       "      <td>207066</td>\n",
       "      <td>1734</td>\n",
       "      <td>False</td>\n",
       "      <td>https://i.redd.it/eg4t9kvlplb41.jpg</td>\n",
       "      <td>2020-01-18</td>\n",
       "      <td>For real thohttps://i.redd.it/eg4t9kvlplb41.jpg</td>\n",
       "    </tr>\n",
       "    <tr>\n",
       "      <th>3</th>\n",
       "      <td>468558</td>\n",
       "      <td>2020.06.09_755</td>\n",
       "      <td>Right as rain after that</td>\n",
       "      <td>NaN</td>\n",
       "      <td>187936</td>\n",
       "      <td>743</td>\n",
       "      <td>False</td>\n",
       "      <td>https://i.redd.it/1wniz8ionv351.jpg</td>\n",
       "      <td>2020-06-09</td>\n",
       "      <td>Right as rain after thathttps://i.redd.it/1wni...</td>\n",
       "    </tr>\n",
       "    <tr>\n",
       "      <th>4</th>\n",
       "      <td>485415</td>\n",
       "      <td>2020.07.08_336</td>\n",
       "      <td>Licensed Dad Joke</td>\n",
       "      <td>NaN</td>\n",
       "      <td>182056</td>\n",
       "      <td>616</td>\n",
       "      <td>False</td>\n",
       "      <td>https://i.redd.it/nrj9smsfek951.jpg</td>\n",
       "      <td>2020-07-08</td>\n",
       "      <td>Licensed Dad Jokehttps://i.redd.it/nrj9smsfek9...</td>\n",
       "    </tr>\n",
       "  </tbody>\n",
       "</table>\n",
       "</div>"
      ],
      "text/plain": [
       "   Unnamed: 0              id                            title text   score  \\\n",
       "0      612615  2021.02.15_288  Wait I didn't mean it like that  NaN  211152   \n",
       "1      545780  2020.10.20_959                     Don't be mad  NaN  207206   \n",
       "2      385925  2020.01.18_675                     For real tho  NaN  207066   \n",
       "3      468558  2020.06.09_755         Right as rain after that  NaN  187936   \n",
       "4      485415  2020.07.08_336                Licensed Dad Joke  NaN  182056   \n",
       "\n",
       "   num_comments  over18                                  url        date  \\\n",
       "0          1642   False  https://i.redd.it/n4ildkpurph61.png  2021-02-15   \n",
       "1           811   False  https://i.redd.it/gsqgq6uwuau51.jpg  2020-10-20   \n",
       "2          1734   False  https://i.redd.it/eg4t9kvlplb41.jpg  2020-01-18   \n",
       "3           743   False  https://i.redd.it/1wniz8ionv351.jpg  2020-06-09   \n",
       "4           616   False  https://i.redd.it/nrj9smsfek951.jpg  2020-07-08   \n",
       "\n",
       "                                               IDURL  \n",
       "0  Wait I didn't mean it like thathttps://i.redd....  \n",
       "1    Don't be madhttps://i.redd.it/gsqgq6uwuau51.jpg  \n",
       "2    For real thohttps://i.redd.it/eg4t9kvlplb41.jpg  \n",
       "3  Right as rain after thathttps://i.redd.it/1wni...  \n",
       "4  Licensed Dad Jokehttps://i.redd.it/nrj9smsfek9...  "
      ]
     },
     "execution_count": 20,
     "metadata": {},
     "output_type": "execute_result"
    }
   ],
   "source": [
    "import pandas as pd\n",
    "\n",
    "meme_df = pd.read_csv('./Data/Memes/memesfinal.csv')\n",
    "meme_df['title'] = meme_df['title'].astype('str')\n",
    "meme_df.head()"
   ]
  },
  {
   "cell_type": "code",
   "execution_count": 4,
   "metadata": {},
   "outputs": [],
   "source": [
    "import emoji"
   ]
  },
  {
   "cell_type": "code",
   "execution_count": 21,
   "metadata": {},
   "outputs": [
    {
     "name": "stdout",
     "output_type": "stream",
     "text": [
      "955149\n",
      "955149\n"
     ]
    }
   ],
   "source": [
    "# check for emojis in title\n",
    "\n",
    "emojis = []\n",
    "\n",
    "for title in meme_df['title']:\n",
    "    emojis.append(int(len(emoji.emoji_list(title))>0))\n",
    "    \n",
    "print(len(emojis))\n",
    "print(len(meme_df))"
   ]
  },
  {
   "cell_type": "code",
   "execution_count": 26,
   "metadata": {},
   "outputs": [
    {
     "data": {
      "text/html": [
       "<div>\n",
       "<style scoped>\n",
       "    .dataframe tbody tr th:only-of-type {\n",
       "        vertical-align: middle;\n",
       "    }\n",
       "\n",
       "    .dataframe tbody tr th {\n",
       "        vertical-align: top;\n",
       "    }\n",
       "\n",
       "    .dataframe thead th {\n",
       "        text-align: right;\n",
       "    }\n",
       "</style>\n",
       "<table border=\"1\" class=\"dataframe\">\n",
       "  <thead>\n",
       "    <tr style=\"text-align: right;\">\n",
       "      <th></th>\n",
       "      <th>id</th>\n",
       "      <th>emoji</th>\n",
       "    </tr>\n",
       "  </thead>\n",
       "  <tbody>\n",
       "    <tr>\n",
       "      <th>0</th>\n",
       "      <td>2021.02.15_288</td>\n",
       "      <td>0</td>\n",
       "    </tr>\n",
       "    <tr>\n",
       "      <th>1</th>\n",
       "      <td>2020.10.20_959</td>\n",
       "      <td>0</td>\n",
       "    </tr>\n",
       "    <tr>\n",
       "      <th>2</th>\n",
       "      <td>2020.01.18_675</td>\n",
       "      <td>0</td>\n",
       "    </tr>\n",
       "    <tr>\n",
       "      <th>3</th>\n",
       "      <td>2020.06.09_755</td>\n",
       "      <td>0</td>\n",
       "    </tr>\n",
       "    <tr>\n",
       "      <th>4</th>\n",
       "      <td>2020.07.08_336</td>\n",
       "      <td>0</td>\n",
       "    </tr>\n",
       "  </tbody>\n",
       "</table>\n",
       "</div>"
      ],
      "text/plain": [
       "               id  emoji\n",
       "0  2021.02.15_288      0\n",
       "1  2020.10.20_959      0\n",
       "2  2020.01.18_675      0\n",
       "3  2020.06.09_755      0\n",
       "4  2020.07.08_336      0"
      ]
     },
     "execution_count": 26,
     "metadata": {},
     "output_type": "execute_result"
    }
   ],
   "source": [
    "save = pd.DataFrame({'id':meme_df['id'],'emoji':emojis})\n",
    "save.to_json('./results/processed_features/emoji.json')\n",
    "check = pd.read_json('./results/processed_features/emoji.json')\n",
    "check.head()"
   ]
  },
  {
   "cell_type": "code",
   "execution_count": null,
   "metadata": {},
   "outputs": [],
   "source": []
  }
 ],
 "metadata": {
  "kernelspec": {
   "display_name": "Python 3 (ipykernel)",
   "language": "python",
   "name": "python3"
  },
  "language_info": {
   "codemirror_mode": {
    "name": "ipython",
    "version": 3
   },
   "file_extension": ".py",
   "mimetype": "text/x-python",
   "name": "python",
   "nbconvert_exporter": "python",
   "pygments_lexer": "ipython3",
   "version": "3.11.6"
  }
 },
 "nbformat": 4,
 "nbformat_minor": 5
}
